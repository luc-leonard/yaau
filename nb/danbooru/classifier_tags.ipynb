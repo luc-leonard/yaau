{
 "cells": [
  {
   "cell_type": "code",
   "execution_count": null,
   "id": "derived-ratio",
   "metadata": {
    "scrolled": true
   },
   "outputs": [],
   "source": [
    "import pandas as pd\n",
    "from fastai.vision.all import *\n",
    "from pathlib import Path\n",
    "import itertools\n",
    "import progressbar"
   ]
  },
  {
   "cell_type": "code",
   "execution_count": null,
   "id": "d71ea091",
   "metadata": {
    "scrolled": true
   },
   "outputs": [],
   "source": [
    "import warnings\n",
    "warnings.filterwarnings(\"ignore\")"
   ]
  },
  {
   "cell_type": "code",
   "execution_count": null,
   "id": "charming-adapter",
   "metadata": {
    "scrolled": true
   },
   "outputs": [],
   "source": [
    "DANBOORU_PATH = Path('/home/lleonard/Documents/datasets/danbooru/0/danbooru2020/')\n",
    "EXTENSIONS = ['png', 'jpg']"
   ]
  },
  {
   "cell_type": "code",
   "execution_count": null,
   "id": "passing-russian",
   "metadata": {
    "scrolled": true
   },
   "outputs": [],
   "source": [
    "import warnings\n",
    "i = 0\n",
    "def file_exists(images_id):\n",
    "    with progressbar.ProgressBar(max_value=len(images_id)) as bar:\n",
    "        def single_image_exists(image_id):\n",
    "            global i\n",
    "            last_4_digit = str(image_id % 1000).zfill(4)\n",
    "            path_to_glob = str(DANBOORU_PATH / '512px' / last_4_digit / str(image_id)) + '.'\n",
    "            globbed = list(itertools.chain(*[glob.glob(path_to_glob + ext) for ext in EXTENSIONS]))\n",
    "            bar.update(i)\n",
    "            i = i + 1\n",
    "            if len(globbed) == 0:\n",
    "                return False\n",
    "            return True\n",
    "\n",
    "        return images_id.apply(single_image_exists)\n",
    "    \n",
    "    \n",
    "\n",
    "ratings = pd.read_csv('/home/lleonard/Documents/datasets/danbooru/0/danbooru2020/ratings_tags_0000.csv')\n",
    "print(ratings)\n",
    "ratings = ratings.sample(50000)\n",
    "ratings = ratings[file_exists(ratings['id'])]\n",
    "print(ratings.columns)"
   ]
  },
  {
   "cell_type": "code",
   "execution_count": null,
   "id": "warming-knitting",
   "metadata": {
    "scrolled": true
   },
   "outputs": [],
   "source": [
    "#ratings = pd.read_csv('clean_0000.csv')"
   ]
  },
  {
   "cell_type": "code",
   "execution_count": null,
   "id": "processed-special",
   "metadata": {
    "scrolled": true
   },
   "outputs": [],
   "source": [
    "ratings['tags'] = ratings[' \"tags\"'].str.split()\n",
    "del ratings[' \"tags\"']\n",
    "ratings['tags']"
   ]
  },
  {
   "cell_type": "code",
   "execution_count": null,
   "id": "champion-scale",
   "metadata": {
    "scrolled": true
   },
   "outputs": [],
   "source": [
    "ratings"
   ]
  },
  {
   "cell_type": "code",
   "execution_count": null,
   "id": "driven-customs",
   "metadata": {
    "scrolled": true
   },
   "outputs": [],
   "source": [
    "counter = defaultdict(int)\n",
    "for tags in progressbar.progressbar(ratings['tags']):\n",
    "    for tag in tags:\n",
    "        counter[tag] = counter[tag] + 1\n",
    "tags = pd.DataFrame(counter.items(), columns=['tag', 'count'])\n",
    "# I do not want 'bad_id' and cie\n",
    "tags = tags[~tags['tag'].str.startswith('bad')]\n",
    "tags = tags[tags['tag'] != 'absurdres']\n",
    "\n",
    "common_tags = tags.sort_values(by='count', ascending=False).head(50)['tag']\n",
    "common_tags"
   ]
  },
  {
   "cell_type": "code",
   "execution_count": null,
   "id": "attached-british",
   "metadata": {
    "scrolled": true
   },
   "outputs": [],
   "source": [
    "ratings['top_tags'] = ratings['tags'].transform(lambda row: set(row) & set(common_tags))\n",
    "ratings"
   ]
  },
  {
   "cell_type": "code",
   "execution_count": null,
   "id": "studied-boston",
   "metadata": {
    "scrolled": true
   },
   "outputs": [],
   "source": [
    "# ratings.to_csv('clean_0000.csv', index=False)"
   ]
  },
  {
   "cell_type": "code",
   "execution_count": null,
   "id": "mediterranean-contract",
   "metadata": {
    "scrolled": true
   },
   "outputs": [],
   "source": [
    "def get_x(row):\n",
    "    image_id = str(row['id'])\n",
    "    mod_1000 = str(row['id'] % 1000)\n",
    "    path_to_glob = str(DANBOORU_PATH / '512px' / mod_1000.zfill(4) / str(image_id)) + '.'\n",
    "    return list(itertools.chain(*[glob.glob(path_to_glob + ext) for ext in EXTENSIONS]))[0]\n",
    "    \n",
    "\n",
    "def get_y(row):\n",
    "    return row['top_tags']\n",
    "\n",
    "dblock = DataBlock(blocks=(ImageBlock, MultiCategoryBlock),\n",
    "                   item_tfms=Resize(224),\n",
    "                   batch_tfms=[*aug_transforms(),Normalize()],\n",
    "                   get_x = get_x, get_y = get_y)\n",
    "dblock.summary(ratings)\n"
   ]
  },
  {
   "cell_type": "code",
   "execution_count": null,
   "id": "killing-cowboy",
   "metadata": {
    "scrolled": true
   },
   "outputs": [],
   "source": [
    "dataloaders = dblock.dataloaders(ratings, bs=128)\n",
    "dataloaders.show_batch()"
   ]
  },
  {
   "cell_type": "code",
   "execution_count": null,
   "id": "floating-ranch",
   "metadata": {
    "scrolled": false
   },
   "outputs": [],
   "source": [
    "learner = cnn_learner(dataloaders, models.vgg16_bn, \n",
    "                      metrics = [\n",
    "                          partial(accuracy_multi, thresh=0.9),\n",
    "                          APScoreMulti(),\n",
    "                                ],\n",
    "                      pretrained=True,\n",
    "                      cbs=[SaveModelCallback(),MixUp()]\n",
    "                     ).to_fp16()\n",
    "learner.model"
   ]
  },
  {
   "cell_type": "code",
   "execution_count": null,
   "id": "pleased-cooking",
   "metadata": {
    "scrolled": true
   },
   "outputs": [],
   "source": [
    "learner.lr_find()"
   ]
  },
  {
   "cell_type": "code",
   "execution_count": null,
   "id": "novel-campbell",
   "metadata": {
    "scrolled": true
   },
   "outputs": [],
   "source": [
    "learner.fit_one_cycle(20, 3e-2)"
   ]
  },
  {
   "cell_type": "code",
   "execution_count": null,
   "id": "finished-orange",
   "metadata": {
    "scrolled": true
   },
   "outputs": [],
   "source": [
    "learner.unfreeze()"
   ]
  },
  {
   "cell_type": "code",
   "execution_count": null,
   "id": "genetic-citizenship",
   "metadata": {
    "scrolled": false
   },
   "outputs": [],
   "source": [
    "learner.fit_one_cycle(100, slice(3e-4, 3e-2))"
   ]
  },
  {
   "cell_type": "code",
   "execution_count": null,
   "id": "owned-crack",
   "metadata": {
    "scrolled": true
   },
   "outputs": [],
   "source": [
    "learner.save('danbooru_vgg_tag_classifier')"
   ]
  },
  {
   "cell_type": "code",
   "execution_count": null,
   "id": "valued-wells",
   "metadata": {
    "scrolled": true
   },
   "outputs": [],
   "source": [
    "learner.show_results(ds_idx=1, max_n=1, figsize=(15,11))"
   ]
  },
  {
   "cell_type": "code",
   "execution_count": null,
   "id": "laden-breed",
   "metadata": {
    "scrolled": true
   },
   "outputs": [],
   "source": [
    "torch.cuda.empty_cache()\n",
    "dataloaders = dblock.dataloaders(ratings, bs=64)\n",
    "model = model.eval().to('cuda')\n",
    "data = iter(dataloaders.valid)"
   ]
  },
  {
   "cell_type": "code",
   "execution_count": null,
   "id": "white-ocean",
   "metadata": {
    "scrolled": true
   },
   "outputs": [],
   "source": [
    "import torchvision\n",
    "\n",
    "item = next(data)\n",
    "grid = torchvision.utils.make_grid(item[0])\n",
    "show_image(grid)\n",
    "preds = model(item[0])\n",
    "print(preds[preds[:, 0].argmax(), :])\n",
    "show_image(item[0][preds[:, 0].argmax()])\n",
    "del preds\n",
    "del item"
   ]
  },
  {
   "cell_type": "code",
   "execution_count": null,
   "id": "vital-milton",
   "metadata": {
    "scrolled": true
   },
   "outputs": [],
   "source": [
    "torch.save(learner.model, './models/danbooru_vgg_tags_classifier.pth')"
   ]
  }
 ],
 "metadata": {
  "kernelspec": {
   "display_name": "Python 3",
   "language": "python",
   "name": "python3"
  },
  "language_info": {
   "codemirror_mode": {
    "name": "ipython",
    "version": 3
   },
   "file_extension": ".py",
   "mimetype": "text/x-python",
   "name": "python",
   "nbconvert_exporter": "python",
   "pygments_lexer": "ipython3",
   "version": "3.8.7"
  }
 },
 "nbformat": 4,
 "nbformat_minor": 5
}
